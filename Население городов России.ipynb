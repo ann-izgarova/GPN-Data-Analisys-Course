{
 "cells": [
  {
   "cell_type": "markdown",
   "metadata": {},
   "source": [
    "### Exploratory Data Analisys. Население городов России"
   ]
  },
  {
   "cell_type": "code",
   "execution_count": 87,
   "metadata": {},
   "outputs": [],
   "source": [
    "import pandas as pd\n",
    "import numpy as np\n",
    "import statistics as st\n",
    "import matplotlib.pyplot as plt"
   ]
  },
  {
   "cell_type": "markdown",
   "metadata": {},
   "source": [
    "Загрузим данные о городах России с населением от 100 тыс "
   ]
  },
  {
   "cell_type": "code",
   "execution_count": 74,
   "metadata": {},
   "outputs": [
    {
     "data": {
      "text/html": [
       "<div>\n",
       "<style scoped>\n",
       "    .dataframe tbody tr th:only-of-type {\n",
       "        vertical-align: middle;\n",
       "    }\n",
       "\n",
       "    .dataframe tbody tr th {\n",
       "        vertical-align: top;\n",
       "    }\n",
       "\n",
       "    .dataframe thead th {\n",
       "        text-align: right;\n",
       "    }\n",
       "</style>\n",
       "<table border=\"1\" class=\"dataframe\">\n",
       "  <thead>\n",
       "    <tr style=\"text-align: right;\">\n",
       "      <th></th>\n",
       "      <th>Город</th>\n",
       "      <th>Субъект РФ</th>\n",
       "      <th>На 1 января 2022 года</th>\n",
       "      <th>На 1 января 2021 года</th>\n",
       "      <th>В среднем за 2021 год</th>\n",
       "    </tr>\n",
       "  </thead>\n",
       "  <tbody>\n",
       "    <tr>\n",
       "      <th>0</th>\n",
       "      <td>Москва</td>\n",
       "      <td>Город федерального значения Москва</td>\n",
       "      <td>12635466</td>\n",
       "      <td>12655050</td>\n",
       "      <td>12645258</td>\n",
       "    </tr>\n",
       "    <tr>\n",
       "      <th>1</th>\n",
       "      <td>Санкт-Петербур</td>\n",
       "      <td>Город федерального значения Санкт-Петербург</td>\n",
       "      <td>5377503</td>\n",
       "      <td>5384342</td>\n",
       "      <td>5380923</td>\n",
       "    </tr>\n",
       "    <tr>\n",
       "      <th>2</th>\n",
       "      <td>Новосибирск</td>\n",
       "      <td>Новосибирская область</td>\n",
       "      <td>1621330</td>\n",
       "      <td>1620162</td>\n",
       "      <td>1620746</td>\n",
       "    </tr>\n",
       "    <tr>\n",
       "      <th>3</th>\n",
       "      <td>Екатеринбург</td>\n",
       "      <td>Свердловская область</td>\n",
       "      <td>1493600</td>\n",
       "      <td>1495066</td>\n",
       "      <td>1494333</td>\n",
       "    </tr>\n",
       "    <tr>\n",
       "      <th>4</th>\n",
       "      <td>Казань</td>\n",
       "      <td>Республика Татарстан</td>\n",
       "      <td>1259173</td>\n",
       "      <td>1257341</td>\n",
       "      <td>1258257</td>\n",
       "    </tr>\n",
       "  </tbody>\n",
       "</table>\n",
       "</div>"
      ],
      "text/plain": [
       "            Город                                   Субъект РФ  \\\n",
       "0          Москва           Город федерального значения Москва   \n",
       "1  Санкт-Петербур  Город федерального значения Санкт-Петербург   \n",
       "2     Новосибирск                        Новосибирская область   \n",
       "3    Екатеринбург                         Свердловская область   \n",
       "4          Казань                         Республика Татарстан   \n",
       "\n",
       "   На 1 января 2022 года  На 1 января 2021 года  В среднем за 2021 год  \n",
       "0               12635466               12655050               12645258  \n",
       "1                5377503                5384342                5380923  \n",
       "2                1621330                1620162                1620746  \n",
       "3                1493600                1495066                1494333  \n",
       "4                1259173                1257341                1258257  "
      ]
     },
     "execution_count": 74,
     "metadata": {},
     "output_type": "execute_result"
    }
   ],
   "source": [
    "city = pd.read_excel('C:/Users/Vanessa/Desktop/курс ГПН/Занятие 4/city.xlsx', sheet_name=0)\n",
    "city.head()"
   ]
  },
  {
   "cell_type": "code",
   "execution_count": 75,
   "metadata": {},
   "outputs": [
    {
     "data": {
      "text/plain": [
       "Город                    object\n",
       "Субъект РФ               object\n",
       "На 1 января 2022 года     int64\n",
       "На 1 января 2021 года     int64\n",
       "В среднем за 2021 год     int64\n",
       "dtype: object"
      ]
     },
     "execution_count": 75,
     "metadata": {},
     "output_type": "execute_result"
    }
   ],
   "source": [
    "city.dtypes"
   ]
  },
  {
   "cell_type": "code",
   "execution_count": 76,
   "metadata": {},
   "outputs": [
    {
     "data": {
      "text/html": [
       "<div>\n",
       "<style scoped>\n",
       "    .dataframe tbody tr th:only-of-type {\n",
       "        vertical-align: middle;\n",
       "    }\n",
       "\n",
       "    .dataframe tbody tr th {\n",
       "        vertical-align: top;\n",
       "    }\n",
       "\n",
       "    .dataframe thead th {\n",
       "        text-align: right;\n",
       "    }\n",
       "</style>\n",
       "<table border=\"1\" class=\"dataframe\">\n",
       "  <thead>\n",
       "    <tr style=\"text-align: right;\">\n",
       "      <th></th>\n",
       "      <th>На 1 января 2022 года</th>\n",
       "      <th>На 1 января 2021 года</th>\n",
       "      <th>В среднем за 2021 год</th>\n",
       "    </tr>\n",
       "  </thead>\n",
       "  <tbody>\n",
       "    <tr>\n",
       "      <th>count</th>\n",
       "      <td>168.0</td>\n",
       "      <td>168.0</td>\n",
       "      <td>168.0</td>\n",
       "    </tr>\n",
       "    <tr>\n",
       "      <th>mean</th>\n",
       "      <td>450918.9</td>\n",
       "      <td>451512.9</td>\n",
       "      <td>451216.1</td>\n",
       "    </tr>\n",
       "    <tr>\n",
       "      <th>std</th>\n",
       "      <td>1066137.2</td>\n",
       "      <td>1067710.3</td>\n",
       "      <td>1066921.4</td>\n",
       "    </tr>\n",
       "    <tr>\n",
       "      <th>min</th>\n",
       "      <td>101404.0</td>\n",
       "      <td>103063.0</td>\n",
       "      <td>102234.0</td>\n",
       "    </tr>\n",
       "    <tr>\n",
       "      <th>25%</th>\n",
       "      <td>136606.0</td>\n",
       "      <td>136785.0</td>\n",
       "      <td>137014.5</td>\n",
       "    </tr>\n",
       "    <tr>\n",
       "      <th>50%</th>\n",
       "      <td>232858.5</td>\n",
       "      <td>233935.0</td>\n",
       "      <td>233453.0</td>\n",
       "    </tr>\n",
       "    <tr>\n",
       "      <th>75%</th>\n",
       "      <td>458986.0</td>\n",
       "      <td>457854.8</td>\n",
       "      <td>458420.8</td>\n",
       "    </tr>\n",
       "    <tr>\n",
       "      <th>max</th>\n",
       "      <td>12635466.0</td>\n",
       "      <td>12655050.0</td>\n",
       "      <td>12645258.0</td>\n",
       "    </tr>\n",
       "  </tbody>\n",
       "</table>\n",
       "</div>"
      ],
      "text/plain": [
       "       На 1 января 2022 года  На 1 января 2021 года  В среднем за 2021 год\n",
       "count                  168.0                  168.0                  168.0\n",
       "mean                450918.9               451512.9               451216.1\n",
       "std                1066137.2              1067710.3              1066921.4\n",
       "min                 101404.0               103063.0               102234.0\n",
       "25%                 136606.0               136785.0               137014.5\n",
       "50%                 232858.5               233935.0               233453.0\n",
       "75%                 458986.0               457854.8               458420.8\n",
       "max               12635466.0             12655050.0             12645258.0"
      ]
     },
     "execution_count": 76,
     "metadata": {},
     "output_type": "execute_result"
    }
   ],
   "source": [
    "city.describe().round(1)"
   ]
  },
  {
   "cell_type": "markdown",
   "metadata": {},
   "source": [
    "Среднее и медиана сильно отличаются"
   ]
  },
  {
   "cell_type": "code",
   "execution_count": 79,
   "metadata": {},
   "outputs": [
    {
     "data": {
      "text/plain": [
       "<matplotlib.axes._subplots.AxesSubplot at 0x2192108b550>"
      ]
     },
     "execution_count": 79,
     "metadata": {},
     "output_type": "execute_result"
    },
    {
     "data": {
      "image/png": "[encoded data removed]",
      "text/plain": [
       "<Figure size 432x288 with 1 Axes>"
      ]
     },
     "metadata": {
      "needs_background": "light"
     },
     "output_type": "display_data"
    }
   ],
   "source": [
    "city['В среднем за 2021 год'].hist(bins = 30)"
   ]
  },
  {
   "cell_type": "code",
   "execution_count": 88,
   "metadata": {},
   "outputs": [
    {
     "data": {
      "image/png": "[encoded data removed]",
      "text/plain": [
       "<Figure size 432x288 with 1 Axes>"
      ]
     },
     "metadata": {
      "needs_background": "light"
     },
     "output_type": "display_data"
    }
   ],
   "source": [
    "plt.plot(city['В среднем за 2021 год'])\n",
    "plt.show()"
   ]
  }
 ],
 "metadata": {
  "kernelspec": {
   "display_name": "Python 3",
   "language": "python",
   "name": "python3"
  },
  "language_info": {
   "codemirror_mode": {
    "name": "ipython",
    "version": 3
   },
   "file_extension": ".py",
   "mimetype": "text/x-python",
   "name": "python",
   "nbconvert_exporter": "python",
   "pygments_lexer": "ipython3",
   "version": "3.8.3"
  }
 },
 "nbformat": 4,
 "nbformat_minor": 4
}
